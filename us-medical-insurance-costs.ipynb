{
 "cells": [
  {
   "cell_type": "markdown",
   "metadata": {},
   "source": [
    "# U.S. Medical Insurance Costs"
   ]
  },
  {
   "cell_type": "markdown",
   "metadata": {},
   "source": [
    "In this project I will be analysing a dataset containing information on US medical insurance. This dataset is contained in a csv file (**insurance.csv**), and I will be using Python to help me organise and analyse the contents."
   ]
  },
  {
   "cell_type": "markdown",
   "metadata": {},
   "source": [
    "To start with, I will be importing the csv file and saving its contents to use later in the Python terminal. It is useful to know that the csv file is organised into the following 7 column headers:\n",
    "* Age\n",
    "* Sex\n",
    "* BMI\n",
    "* Children\n",
    "* Smoker\n",
    "* Region\n",
    "* Charges"
   ]
  },
  {
   "cell_type": "code",
   "execution_count": 1,
   "metadata": {},
   "outputs": [],
   "source": [
    "#Import library needed for working with csv files\n",
    "import csv\n",
    "\n",
    "#Create list variables for storing csv data\n",
    "ages = []\n",
    "sexes = []\n",
    "bmis = []\n",
    "number_of_children = []\n",
    "smoker_status = []\n",
    "regions = []\n",
    "insurance_costs = []\n",
    "\n",
    "#Create a dictionary to store all the patient records\n",
    "insurance_dict = {}\n",
    "\n",
    "#Read the csv file and save it the appropriate variables above\n",
    "with open(\"insurance.csv\") as insurance_csv:\n",
    "    csv_dict = csv.DictReader(insurance_csv)\n",
    "    records_dict = {\"age\": 0, \"sex\": 0, \"bmi\": 0, \"children\": 0, \"smoker\": 0, \"region\": 0, \"charges\": 0}\n",
    "    record_id = 0\n",
    "    for row in csv_dict:\n",
    "        #Populate lists\n",
    "        ages.append(row[\"age\"])\n",
    "        sexes.append(row[\"sex\"])\n",
    "        bmis.append(row[\"bmi\"])\n",
    "        number_of_children.append(row[\"children\"])\n",
    "        smoker_status.append(row[\"smoker\"])\n",
    "        regions.append(row[\"region\"])\n",
    "        insurance_costs.append(row[\"charges\"])\n",
    "        #Populate dictionary\n",
    "        records_dict = row[\"age\"], row[\"sex\"], row[\"bmi\"], row[\"children\"], row[\"smoker\"], row[\"region\"], row[\"charges\"]\n",
    "        insurance_dict.update({record_id: records_dict})\n",
    "        record_id += 1"
   ]
  },
  {
   "cell_type": "markdown",
   "metadata": {},
   "source": [
    "Now that I have extracted the data from the csv file, it is time to start analysing it."
   ]
  },
  {
   "cell_type": "markdown",
   "metadata": {},
   "source": [
    "The goal of my analysis is to try and see if there is any correlation between any of the six variables and insurance cost."
   ]
  },
  {
   "cell_type": "code",
   "execution_count": 2,
   "metadata": {},
   "outputs": [
    {
     "name": "stdout",
     "output_type": "stream",
     "text": [
      "The average insurance cost increases by $352.88 every year you get older\n",
      "The average insurance cost for male patients is $13956.75 and the average insurance cost for female patients is $12569.58\n",
      "The average insurance cost increases by $434.03 everytime a patient increases their BMI by 1\n",
      "The average insurance cost increases by $1583.96 when a patient has any children\n",
      "The average insurance cost for smoking patients is $32050.23 and for non-smoking patients it is $8434.27\n",
      "The average insurance cost for people living in the southwest region is $12346.94\n",
      "The average insurance cost for people living in the southeast region is $14735.41\n",
      "The average insurance cost for people living in the northwest region is $12417.58\n",
      "The average insurance cost for people living in the northeast region is $13406.38\n"
     ]
    }
   ],
   "source": [
    "#Age correlation\n",
    "age_correlation = 0\n",
    "average_age = 0\n",
    "loop_increment = 0\n",
    "for costs in insurance_costs:\n",
    "    y_axis = costs\n",
    "    x_axis = ages[loop_increment]\n",
    "    average_age += int(ages[loop_increment])\n",
    "    age_correlation += float(y_axis) / float(x_axis)\n",
    "    loop_increment += 1\n",
    "age_correlation = round((age_correlation / len(insurance_costs)), 2)\n",
    "average_age = round((average_age / len(ages)), 2)\n",
    "print(\"The average insurance cost increases by ${} every year you get older\".format(age_correlation))\n",
    "\n",
    "#Sex correlation\n",
    "male_patients = 0\n",
    "female_patients = 0\n",
    "average_male_costs = 0\n",
    "average_female_costs = 0\n",
    "loop_increment = 0\n",
    "for sex in sexes:\n",
    "    if sex == \"male\":\n",
    "        male_patients += 1\n",
    "        average_male_costs += float(insurance_costs[loop_increment])\n",
    "    elif sex == \"female\":\n",
    "        female_patients += 1\n",
    "        average_female_costs += float(insurance_costs[loop_increment])\n",
    "    loop_increment += 1\n",
    "average_male_costs = round((average_male_costs / male_patients), 2)\n",
    "average_female_costs = round((average_female_costs / female_patients), 2)\n",
    "print(\"The average insurance cost for male patients is ${} and the average insurance cost for female patients is ${}\".format(average_male_costs, average_female_costs))\n",
    "\n",
    "#BMI correlation\n",
    "bmi_correlation = 0\n",
    "average_bmi = 0\n",
    "loop_increment = 0\n",
    "for costs in insurance_costs:\n",
    "    y_axis = costs\n",
    "    x_axis = bmis[loop_increment]\n",
    "    average_bmi += float(bmis[loop_increment])\n",
    "    bmi_correlation += float(y_axis) / float(x_axis)\n",
    "    loop_increment += 1\n",
    "bmi_correlation = round((bmi_correlation / len(insurance_costs)), 2)\n",
    "average_bmi = round((average_bmi / len(bmis)), 2)\n",
    "print(\"The average insurance cost increases by ${} everytime a patient increases their BMI by 1\".format(bmi_correlation))\n",
    "\n",
    "#Number of children correlation\n",
    "no_children_tally = 0\n",
    "with_children_tally = 0\n",
    "average_insurance_costs_no_children = 0\n",
    "average_insurance_costs_with_children = 0\n",
    "loop_increment = 0\n",
    "for children in number_of_children:\n",
    "    if children == \"0\":\n",
    "        no_children_tally += 1\n",
    "        average_insurance_costs_no_children += float(insurance_costs[loop_increment])\n",
    "    else:\n",
    "        with_children_tally += 1\n",
    "        average_insurance_costs_with_children += float(insurance_costs[loop_increment])\n",
    "    loop_increment += 1\n",
    "average_insurance_costs_no_children = round((average_insurance_costs_no_children / no_children_tally), 2)\n",
    "average_insurance_costs_with_children = round((average_insurance_costs_with_children / with_children_tally), 2)\n",
    "print(\"The average insurance cost increases by ${} when a patient has any children\".format(round((average_insurance_costs_with_children - average_insurance_costs_no_children), 2)))\n",
    "\n",
    "#Smoker correlation\n",
    "smoking_patients = 0\n",
    "non_smoking_patients = 0\n",
    "average_smoker_costs = 0\n",
    "average_non_smoker_costs = 0\n",
    "loop_increment = 0\n",
    "for patient in smoker_status:\n",
    "    if patient == \"yes\":\n",
    "        smoking_patients += 1\n",
    "        average_smoker_costs += float(insurance_costs[loop_increment])\n",
    "    elif patient == \"no\":\n",
    "        non_smoking_patients += 1\n",
    "        average_non_smoker_costs += float(insurance_costs[loop_increment])\n",
    "    loop_increment += 1\n",
    "average_smoker_costs = round((average_smoker_costs / smoking_patients), 2)\n",
    "average_non_smoker_costs = round((average_non_smoker_costs / non_smoking_patients), 2)\n",
    "print(\"The average insurance cost for smoking patients is ${} and for non-smoking patients it is ${}\".format(average_smoker_costs, average_non_smoker_costs))\n",
    "\n",
    "#Region correlation\n",
    "unique_regions = []\n",
    "average_regional_costs = 0\n",
    "loop_increment = 0\n",
    "for region in regions:\n",
    "    if region not in unique_regions:\n",
    "        unique_regions.append(region)\n",
    "for unique_region in unique_regions:\n",
    "    average_regional_costs = 0\n",
    "    loop_increment = 0\n",
    "    for region in regions:\n",
    "        if region == unique_region:\n",
    "            average_regional_costs += float(insurance_costs[loop_increment])\n",
    "        loop_increment += 1\n",
    "    average_regional_costs = round((average_regional_costs / regions.count(unique_region)), 2)\n",
    "    print(\"The average insurance cost for people living in the {} region is ${}\".format(unique_region, average_regional_costs))"
   ]
  },
  {
   "cell_type": "markdown",
   "metadata": {},
   "source": [
    "Now that we have done our analysis, it is useful to provide some basic information about the distribution of our dataset so that we can have some context of its validity."
   ]
  },
  {
   "cell_type": "code",
   "execution_count": 3,
   "metadata": {},
   "outputs": [
    {
     "name": "stdout",
     "output_type": "stream",
     "text": [
      "The average insurance costs for the entire dataset is $13270.42\n",
      "The average age of the patients in the dataset is 39.21 years\n",
      "There are 676 male patients (50.52%) and 662 female patients (49.48%) in the dataset\n",
      "The average BMI of the patients in the dataset is 30.66\n",
      "There are 574 patients (42.9%) in the dataset with 0 children\n",
      "There are 324 patients (24.22%) in the dataset with 1 child\n",
      "There are 240 patients (17.94%) in the dataset with 2 children\n",
      "There are 157 patients (11.73%) in the dataset with 3 children\n",
      "There are 25 patients (1.87%) in the dataset with 4 children\n",
      "There are 18 patients (1.35%) in the dataset with 5 children\n",
      "There are 274 smokers (20.48%) and 1064 non-smokers (79.52%) in the dataset\n",
      "There are 324 patients (24.22%) in the dataset that live in the northeast region\n",
      "There are 325 patients (24.29%) in the dataset that live in the northwest region\n",
      "There are 364 patients (27.2%) in the dataset that live in the southeast region\n",
      "There are 325 patients (24.29%) in the dataset that live in the southwest region\n"
     ]
    }
   ],
   "source": [
    "#Overall average insurance costs for the dataset\n",
    "average_insurance_costs = 0\n",
    "for costs in insurance_costs:\n",
    "    average_insurance_costs += float(costs)\n",
    "average_insurance_costs = round((average_insurance_costs / len(insurance_costs)), 2)\n",
    "print(\"The average insurance costs for the entire dataset is ${}\".format(average_insurance_costs))\n",
    "\n",
    "#Dataset average age\n",
    "print(\"The average age of the patients in the dataset is {} years\".format(average_age))\n",
    "\n",
    "#Dataset sex distribution\n",
    "male_patients_percentage = round((male_patients / len(sexes)) * 100, 2)\n",
    "female_patients_percentage = round((female_patients / len(sexes)) * 100, 2)\n",
    "print(\"There are {} male patients ({}%) and {} female patients ({}%) in the dataset\".format(male_patients, male_patients_percentage, female_patients, female_patients_percentage))\n",
    "\n",
    "#Dataset average BMI\n",
    "print(\"The average BMI of the patients in the dataset is {}\".format(average_bmi))\n",
    "\n",
    "#Dataset distribution of number of children for patients\n",
    "unique_children_dict = {}\n",
    "for children in number_of_children:\n",
    "    if children not in unique_children_dict:\n",
    "        unique_children_dict.update({children: 1})\n",
    "    elif children in unique_children_dict:\n",
    "        children_value = unique_children_dict.get(children) + 1\n",
    "        unique_children_dict.update({children: children_value})\n",
    "children_dict_ordered_keys = list(unique_children_dict.keys())\n",
    "children_dict_ordered_keys.sort()\n",
    "for keys in children_dict_ordered_keys:\n",
    "    children_percentage = round((unique_children_dict[keys] / len(number_of_children)) * 100, 2)\n",
    "    if keys == \"1\":\n",
    "        print(\"There are {} patients ({}%) in the dataset with {} child\".format(unique_children_dict[keys], children_percentage, keys))\n",
    "    else:\n",
    "        print(\"There are {} patients ({}%) in the dataset with {} children\".format(unique_children_dict[keys], children_percentage, keys))\n",
    "\n",
    "#Dataset smoker and non-smoker distribution\n",
    "smoker_percentage = round((smoking_patients / len(smoker_status)) * 100, 2)\n",
    "non_smoker_percentage = round((non_smoking_patients / len(smoker_status)) * 100, 2)\n",
    "print(\"There are {} smokers ({}%) and {} non-smokers ({}%) in the dataset\".format(smoking_patients, smoker_percentage, non_smoking_patients, non_smoker_percentage))\n",
    "\n",
    "#Dataset regional distribution\n",
    "unique_regions_dict = {}\n",
    "for region in regions:\n",
    "    if region not in unique_regions_dict:\n",
    "        unique_regions_dict.update({region: 1})\n",
    "    elif region in unique_regions_dict:\n",
    "        unique_regions_value = unique_regions_dict.get(region) + 1\n",
    "        unique_regions_dict.update({region: unique_regions_value})\n",
    "regions_dict_ordered_keys = list(unique_regions_dict.keys())\n",
    "regions_dict_ordered_keys.sort()\n",
    "for keys in regions_dict_ordered_keys:\n",
    "    region_percentage = round((unique_regions_dict[keys] / len(regions)) * 100, 2)\n",
    "    print(\"There are {} patients ({}%) in the dataset that live in the {} region\".format(unique_regions_dict[keys], region_percentage, keys))"
   ]
  },
  {
   "cell_type": "markdown",
   "metadata": {},
   "source": [
    "As we can see from our calculations above, the dataset is fairly evenly distributed so we can be pretty confident that our earlier analysis will hold true for the larger population.\n",
    "\n",
    "The only exception to this is the analysis we did on how insurance costs is affected by how many children you have. As we can see above, we have a small subset of patients in the dataset with 4 or 5 children. This is too small of a dataset to base our analysis on, and it will most likely have skewed our initial analysis with regards to how the number of children affects insurance costs."
   ]
  }
 ],
 "metadata": {
  "kernelspec": {
   "display_name": "Python 3.9.12 ('base')",
   "language": "python",
   "name": "python3"
  },
  "language_info": {
   "codemirror_mode": {
    "name": "ipython",
    "version": 3
   },
   "file_extension": ".py",
   "mimetype": "text/x-python",
   "name": "python",
   "nbconvert_exporter": "python",
   "pygments_lexer": "ipython3",
   "version": "3.9.12"
  },
  "vscode": {
   "interpreter": {
    "hash": "4727b3d9a30f521c5add1bf6d7448eb28dbcf360e0817ebb7259d56de25c4d7b"
   }
  }
 },
 "nbformat": 4,
 "nbformat_minor": 4
}
